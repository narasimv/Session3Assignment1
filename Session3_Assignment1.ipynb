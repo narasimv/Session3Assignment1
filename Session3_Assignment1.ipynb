{
 "cells": [
  {
   "cell_type": "code",
   "execution_count": null,
   "metadata": {},
   "outputs": [],
   "source": [
    "#1.1  Write a Python Program to implement your own myreduce() function which works exactly\n",
    "#like Python's built-in function reduce()\n",
    "#Functions for each Add, Substract and Multiply\n",
    "def myAdd(a,b):\n",
    "    return a+b\n",
    "\n",
    "def mySubt(a,b):\n",
    "    return a-b\n",
    "\n",
    "def myMultiplication(a,b):\n",
    "    return a*b\n",
    "#Custom reduce function to works like built-in reduce()\n",
    "def myReduce(function, list1):\n",
    "    count1=0\n",
    "    result1=0 \n",
    "    #Loop through and call custom function by passing appropriate sequences.\n",
    "    for i in list1:\n",
    "        #First loop\n",
    "        if count1==0:\n",
    "            result1=i\n",
    "            count1=count1+1\n",
    "        \n",
    "        #From next iteration\n",
    "        elif count1>=1:\n",
    "            result1=function(result1,i)\n",
    "            count1=count1+1\n",
    "    return result1\n",
    "input1=[1,2,3,4,5]\n",
    "print('Input is: ',input1)\n",
    "#Call functions:\n",
    "print('Add Function: ',myReduce(myAdd,input1))\n",
    "print('Subtraction Function: ',myReduce(mySubt,input1))\n",
    "print('Multiplication Function: ',myReduce(myMultiplication,input1))\n"
   ]
  },
  {
   "cell_type": "code",
   "execution_count": null,
   "metadata": {},
   "outputs": [],
   "source": [
    "#1.2 Write a Python program to implement your own myfilter() function which works exactly like\n",
    "#Python's built-in function filter()\n",
    "\n",
    "#Check Function\n",
    "def checkEvenOdd(a):\n",
    "    if a%2==0:\n",
    "        return \"Even\"\n",
    "    else:\n",
    "        return \"Odd\"\n",
    "\n",
    "#myFilter implementation\n",
    "def myFilter(functionName,lst):\n",
    "    #Declcare veriables to store return List\n",
    "    returnEven=[]\n",
    "    returnOdd=[]\n",
    "    \n",
    "    #Loop Thorugh list, call function by passing number and store in Even or Odd list \n",
    "    \n",
    "    for i in lst:\n",
    "        if checkEvenOdd(i)==\"Even\":\n",
    "            returnEven.append(i)\n",
    "        elif checkEvenOdd(i)==\"Odd\":\n",
    "            returnOdd.append(i)\n",
    "    #Return List\n",
    "    if functionName==\"checkEven\":\n",
    "        return returnEven\n",
    "    elif functionName==\"checkOdd\":\n",
    "        return returnOdd\n",
    "\n",
    "#Prepare List to pass to myFilter function\n",
    "list1=range(11,20)\n",
    "print ('List is : ',list1)\n",
    "\n",
    "#Call EvenCheck Program pay Passing list of number to get only Even number in the list\n",
    "print('Even Numbers in the range are: ',myFilter(\"checkEven\",list1))\n",
    "\n",
    "#Call OddCheck Program pay Passing list of number to get only Odd number in the list\n",
    "print('Odd Numbers in the range are: ',myFilter(\"checkOdd\",list1))\n"
   ]
  },
  {
   "cell_type": "code",
   "execution_count": 56,
   "metadata": {},
   "outputs": [
    {
     "name": "stdout",
     "output_type": "stream",
     "text": [
      "['A', 'C', 'A', 'D', 'G', 'I', 'L', 'D']\n",
      "['x', 'xx', 'xxx', 'xxxx', 'y', 'yy', 'yyy', 'yyyy', 'z', 'zz', 'zzz', 'zzzz']\n",
      "['x', 'y', 'z', 'xx', 'yy', 'zz', 'xx', 'yy', 'zz', 'xxxx', 'yyyy', 'zzzz']\n",
      "[[2], [3], [4], [3], [4], [5], [4], [5], [6]]\n",
      "[[2, 3, 4, 5], [3, 4, 5, 6], [4, 5, 6, 7], [5, 6, 7, 8]]\n",
      "[(1, 1), (2, 1), (3, 1), (3, 1), (1, 2), (2, 2), (3, 2), (1, 3), (2, 3), (3, 3)]\n"
     ]
    }
   ],
   "source": [
    "#Session 3 Assignment\n",
    "#2. Implement List comprehensions to produce the following lists.\n",
    "#Write List comprehensions to produce the following Lists\n",
    "\n",
    "#Produce the following list ['A', 'C', 'A', 'D', 'G', 'I', ’L’, ‘ D’] using List compressions\n",
    "list1='ACADGILD'\n",
    "listResult=[l1 for l1 in list1]\n",
    "print(listResult)\n",
    "\n",
    "#Produce the following list ['x', 'xx', 'xxx', 'xxxx', 'y', 'yy', 'yyy', 'yyyy', 'z', 'zz', 'zzz', 'zzzz'] using List compressions\n",
    "list1='x,xx,xxx,xxxx,y,yy,yyy,yyyy,z,zz,zzz,zzzz'\n",
    "listResult=[l1 for l1 in list1.split(',')]\n",
    "print(listResult)\n",
    "\n",
    "#Produce the following List ['x', 'y', 'z', 'xx', 'yy', 'zz', 'xx', 'yy', 'zz', 'xxxx', 'yyyy', 'zzzz'] using list compressions\n",
    "list1='x,y,z,xx,yy,zz,xx,yy,zz,xxxx,yyyy,zzzz'\n",
    "listResult=[l1 for l1 in (list1.split(','))]\n",
    "print(listResult)\n",
    "\n",
    "#Produce the following list [[2], [3], [4], [3], [4], [5], [4], [5], [6]] using list compressions.\n",
    "list1=[2],[3],[4],[3],[4],[5],[4],[5],[6]\n",
    "listResult=[l1 for l1 in list1]\n",
    "print(listResult)\n",
    "\n",
    "#Produce the following List [[2, 3, 4, 5], [3, 4, 5, 6], [4, 5, 6, 7], [5, 6, 7, 8]] using list compressions.\n",
    "list1=[2, 3, 4, 5], [3, 4, 5, 6], [4, 5, 6, 7], [5, 6, 7, 8]\n",
    "listResult=[l1 for l1 in list1]\n",
    "print(listResult)\n",
    "\n",
    "#Produce the following List [(1, 1), (2, 1), (3, 1), (1, 2), (2, 2), (3, 2), (1, 3), (2, 3), (3, 3)] using List compressions.\n",
    "l1,l2,l3,l4,l5,l6,l7,l8,l9=(1,1),(2,1),(3, 1), (1, 2), (2, 2), (3, 2), (1, 3), (2, 3), (3, 3)\n",
    "list1=[l1,l2,l3,l3,l4,l5,l6,l7,l8,l9]\n",
    "listResult=[listTwo for listTwo in list1]\n",
    "print(listResult)"
   ]
  },
  {
   "cell_type": "code",
   "execution_count": 69,
   "metadata": {},
   "outputs": [
    {
     "name": "stdout",
     "output_type": "stream",
     "text": [
      "Enter Words: \n",
      "NoneAnil is not available hence no results\n",
      "List of Entered Words are:  Anil is not available hence no results\n",
      "Longest Word among the list :  available\n"
     ]
    }
   ],
   "source": [
    "#Write an own function to return longest world. \n",
    "def myFuncLongWord(ListOfWord):\n",
    "    #Declare a variable to recive String and store in the list\n",
    "    list1=ListOfWord.split(' ')\n",
    "    \n",
    "    #Declare variable to store Longest world and Logest Lenth\n",
    "    largestWord=''\n",
    "    largestLen=0\n",
    "    \n",
    "    #Loop Thorugh the list and identify the longest world\n",
    "    for word in list1:\n",
    "        #compare the prevous world length , current one and store values accordingly.\n",
    "        if len(largestWord)<len(word):\n",
    "            largestLen=len(word)\n",
    "            largestWord=word\n",
    "    #retrun the longest one.\n",
    "    return largestWord\n",
    "\n",
    "#Input the list of words to find longest word\n",
    "ListOfWord=input(print(\"Enter Words: \"))\n",
    "print('List of Entered Words are: ',ListOfWord)\n",
    "print('Longest Word among the list : ',myFuncLongWord(ListOfWord))"
   ]
  },
  {
   "cell_type": "code",
   "execution_count": null,
   "metadata": {},
   "outputs": [],
   "source": []
  }
 ],
 "metadata": {
  "kernelspec": {
   "display_name": "Python 3",
   "language": "python",
   "name": "python3"
  },
  "language_info": {
   "codemirror_mode": {
    "name": "ipython",
    "version": 3
   },
   "file_extension": ".py",
   "mimetype": "text/x-python",
   "name": "python",
   "nbconvert_exporter": "python",
   "pygments_lexer": "ipython3",
   "version": "3.6.5"
  }
 },
 "nbformat": 4,
 "nbformat_minor": 2
}
